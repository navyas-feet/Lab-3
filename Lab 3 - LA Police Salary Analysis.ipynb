{
 "cells": [
  {
   "cell_type": "markdown",
   "metadata": {},
   "source": [
    "# LA Police Salary Demographics Analysis\n",
    "#### Navya Mangipudi, Big Data and Analytics, 9-17-19"
   ]
  },
  {
   "cell_type": "markdown",
   "metadata": {},
   "source": [
    "## Abstract\n",
    "\n",
    "This lab is an analysis of the wage data of officers at the LAPD depending on data such as employment type (part time vs. full time) and year. We will be finding the interquartile ranges for salary based on year and, we will be comparing min, max and mean values for salary based on employment type. This lab is used in order to determine the impact that employment type within the police station will have on overall salary and, to see what changes in salary have occured through the years. "
   ]
  },
  {
   "cell_type": "markdown",
   "metadata": {},
   "source": [
    "## Dataset Preparation\n",
    "\n",
    "This data represents the police payroll of the LAPD for every year since 2013. This dataset includes information on year, job title, hourly data, police ID, department, row ID, employment type, projected salary and other breakdowns of pay quarterly and including overtime pay. For this analysis, I will mainly be looking at base pay in the context of year and employment type. \n",
    "\n",
    "* Below, I first imported pandas in order to attain the analysis functions that come with the module.\n",
    "* Then, I used the pandas function pd.read_csv to read the csv file and put the data in a DataFrame.\n",
    "* I then used groupby() to isolate specific columns in the data (employment type and year). I keep these in the variables dfy and dfj.\n",
    "* I then also used .info to make sure that the object types in each list are consistent with the functions I intend to perform on them.\n",
    "\n",
    "This dataset can be found at this link: https://controllerdata.lacity.org/Payroll/Police-Payroll/sxpf-rh6t\n",
    "\n",
    "This data is collected by the Los Angeles City Controller's Office and is a set of data that is based off of the larger dataset of overall City Employee Payroll for the city of LA. The data is updated on a quarterly basis and was created on May 16, 2016 and was last updated on June 5th, 2019. This data has 35 columns and 68,564 rows. \n",
    "\n",
    "*An important thing to note is that this data set ommits the year of 2017. There is no data for 2017 and I did not find the year of 2017 for the LAPD in the overall spreadsheet for city employee wages in all of LA through the years. This is an area for future exploration and, all data should be viewed with the knowlege that there is a year of a gap in data. "
   ]
  },
  {
   "cell_type": "code",
   "execution_count": 9,
   "metadata": {},
   "outputs": [],
   "source": [
    "#I am importing the pandas module in order to access the functions that come with pandas to analyze data.\n",
    "import pandas as pd\n",
    "\n",
    "#Here, Pandas is reading the csv file and putting it into a DataFrame, a type used for data. \n",
    "df = pd.read_csv(\"Police_Payroll.csv\")\n",
    "\n",
    "#Applying groupby() function to group the data based on year.\n",
    "dfy = df.groupby('Year')\n",
    "\n",
    "#Applying groupby() function to group data based on employment type. \n",
    "dfj = df.groupby('Employment Type')\n"
   ]
  },
  {
   "cell_type": "code",
   "execution_count": null,
   "metadata": {},
   "outputs": [
    {
     "name": "stdout",
     "output_type": "stream",
     "text": [
      "<class 'pandas.core.frame.DataFrame'>\n",
      "RangeIndex: 68564 entries, 0 to 68563\n",
      "Data columns (total 35 columns):\n",
      "Row ID                          68564 non-null object\n",
      "Year                            68564 non-null int64\n",
      "Department Title                68564 non-null object\n",
      "Payroll Department              68564 non-null int64\n",
      "Record Number                   68564 non-null int64\n",
      "Job Class Title                 68564 non-null object\n",
      "Employment Type                 68564 non-null object\n",
      "Hourly or Event Rate            68564 non-null float64\n",
      "Projected Annual Salary         68564 non-null float64\n",
      "Q1 Payments                     68564 non-null float64\n",
      "Q2 Payments                     68564 non-null float64\n",
      "Q3 Payments                     68564 non-null float64\n",
      "Q4 Payments                     68564 non-null float64\n",
      "Payments Over Base Pay          40227 non-null float64\n",
      "% Over Base Pay                 40227 non-null float64\n",
      "Total Payments                  68564 non-null float64\n",
      "Base Pay                        68564 non-null float64\n",
      "Permanent Bonus Pay             68564 non-null float64\n",
      "Longevity Bonus Pay             68564 non-null float64\n",
      "Temporary Bonus Pay             68564 non-null float64\n",
      "Lump Sum Pay                    68564 non-null float64\n",
      "Overtime Pay                    68564 non-null float64\n",
      "Other Pay & Adjustments         68564 non-null float64\n",
      "Other Pay (Payroll Explorer)    68564 non-null float64\n",
      "MOU                             68564 non-null int64\n",
      "MOU Title                       68564 non-null object\n",
      "FMS Department                  68564 non-null int64\n",
      "Job Class                       68564 non-null int64\n",
      "Pay Grade                       68564 non-null object\n",
      "Average Health Cost             68564 non-null float64\n",
      "Average Dental Cost             68564 non-null float64\n",
      "Average Basic Life              68564 non-null float64\n",
      "Average Benefit Cost            68564 non-null float64\n",
      "Benefits Plan                   67872 non-null object\n",
      "Job Class Link                  68564 non-null object\n",
      "dtypes: float64(21), int64(6), object(8)\n",
      "memory usage: 18.3+ MB\n"
     ]
    }
   ],
   "source": [
    "#Shows number of columns, names of all the columns, shows how many objects in each column and the type of the objects \n",
    "#in each column. Float64 = float, int64 = int, object = non-numerical and null means missing data, non-null means data\n",
    "#has a value. I am using info to ensure I dont have too much missing data in the columns I need and to make sure that\n",
    "#the types of the objects in each column will be able to perform the intended analyses (ex. the base pay column is \n",
    "#made of ints/floats so that I can make a boxplot/find mean/median/etc). \n",
    "\n",
    "df.info()"
   ]
  },
  {
   "cell_type": "markdown",
   "metadata": {},
   "source": [
    "## Data Modelling\n",
    "\n",
    "### Year Data Calculations\n",
    "\n",
    "* Below, I am finding the basic statistical values for the base pay depending on year. This is done by using the \"dfy\" variable created above along with use of the .describe function. Through experimentation, I discovered that, to be column specific in statistical output while already having grouped together data, square brackets need to be present outside of parenthesis containing the specific column. \n",
    "\n",
    "\n",
    "* Next, I create a boxplot using the boxplot() function from Pandas. This is used in order to visualize the quartile ranges of Base Pay within the context of Year along with all of the outliers of the dataset. "
   ]
  },
  {
   "cell_type": "code",
   "execution_count": null,
   "metadata": {},
   "outputs": [],
   "source": [
    "#Here, within the grouping of data based on year, I am now looking at statistics like mean, standard deviation, min, \n",
    "#max and quartiles for base pay data. Below is this statistical information for the base pay of\n",
    "#every year since 2013 (non-inclusive of 2019 and 2017 for undisclosed reasons)\n",
    "\n",
    "dfy.describe()[('Base Pay')]"
   ]
  },
  {
   "cell_type": "code",
   "execution_count": null,
   "metadata": {},
   "outputs": [],
   "source": [
    "#Here, I am using the boxplot() function to make a boxplot depicting Base Pay based on Year. Here, I do not need to\n",
    "#use the variable dfy because within the parenthesis, I can choose \"Year\" as my x-axis and \"Base Pay\" as my y-axis\n",
    "#By setting \"by\" and \"column\" equal to the needed x and y axis respectively.\n",
    "\n",
    "df.boxplot(by ='Year', column =['Base Pay']) "
   ]
  },
  {
   "cell_type": "markdown",
   "metadata": {},
   "source": [
    "### Employment Type Calculations\n",
    "\n",
    "* Below, I am finding the basic statistical values for the base pay depending on employment type. This is done by using the \"dfj\" variable created above along with use of the .describe function. Since we already have our data grouped by employment type, we need to use describe() and add the specific column we want calculations on within the () parenthesis inside the [] square brackets.\n",
    "\n",
    "\n",
    "* Next, I create a boxplot using the boxplot() function from Pandas. This is used in order to visualize the quartile ranges of Base Pay within the context of employment type along with all of the outliers of the dataset. This shows us visually where the majority of data lies and how many outliers a dataset has.  \n"
   ]
  },
  {
   "cell_type": "code",
   "execution_count": 15,
   "metadata": {},
   "outputs": [
    {
     "data": {
      "text/html": [
       "<div>\n",
       "<style scoped>\n",
       "    .dataframe tbody tr th:only-of-type {\n",
       "        vertical-align: middle;\n",
       "    }\n",
       "\n",
       "    .dataframe tbody tr th {\n",
       "        vertical-align: top;\n",
       "    }\n",
       "\n",
       "    .dataframe thead th {\n",
       "        text-align: right;\n",
       "    }\n",
       "</style>\n",
       "<table border=\"1\" class=\"dataframe\">\n",
       "  <thead>\n",
       "    <tr style=\"text-align: right;\">\n",
       "      <th></th>\n",
       "      <th>count</th>\n",
       "      <th>mean</th>\n",
       "      <th>std</th>\n",
       "      <th>min</th>\n",
       "      <th>25%</th>\n",
       "      <th>50%</th>\n",
       "      <th>75%</th>\n",
       "      <th>max</th>\n",
       "    </tr>\n",
       "    <tr>\n",
       "      <th>Employment Type</th>\n",
       "      <th></th>\n",
       "      <th></th>\n",
       "      <th></th>\n",
       "      <th></th>\n",
       "      <th></th>\n",
       "      <th></th>\n",
       "      <th></th>\n",
       "      <th></th>\n",
       "    </tr>\n",
       "  </thead>\n",
       "  <tbody>\n",
       "    <tr>\n",
       "      <th>Full Time</th>\n",
       "      <td>67872.0</td>\n",
       "      <td>85503.956112</td>\n",
       "      <td>30047.723384</td>\n",
       "      <td>-4979.2</td>\n",
       "      <td>71701.3275</td>\n",
       "      <td>90943.25</td>\n",
       "      <td>102768.1025</td>\n",
       "      <td>346787.20</td>\n",
       "    </tr>\n",
       "    <tr>\n",
       "      <th>Part Time</th>\n",
       "      <td>521.0</td>\n",
       "      <td>17467.819885</td>\n",
       "      <td>10404.983982</td>\n",
       "      <td>0.0</td>\n",
       "      <td>10086.4200</td>\n",
       "      <td>17529.53</td>\n",
       "      <td>24494.0800</td>\n",
       "      <td>44490.99</td>\n",
       "    </tr>\n",
       "    <tr>\n",
       "      <th>Per Event</th>\n",
       "      <td>171.0</td>\n",
       "      <td>6396.589942</td>\n",
       "      <td>5608.902311</td>\n",
       "      <td>450.0</td>\n",
       "      <td>1800.0000</td>\n",
       "      <td>4950.00</td>\n",
       "      <td>9000.0000</td>\n",
       "      <td>32400.00</td>\n",
       "    </tr>\n",
       "  </tbody>\n",
       "</table>\n",
       "</div>"
      ],
      "text/plain": [
       "                   count          mean           std     min         25%  \\\n",
       "Employment Type                                                            \n",
       "Full Time        67872.0  85503.956112  30047.723384 -4979.2  71701.3275   \n",
       "Part Time          521.0  17467.819885  10404.983982     0.0  10086.4200   \n",
       "Per Event          171.0   6396.589942   5608.902311   450.0   1800.0000   \n",
       "\n",
       "                      50%          75%        max  \n",
       "Employment Type                                    \n",
       "Full Time        90943.25  102768.1025  346787.20  \n",
       "Part Time        17529.53   24494.0800   44490.99  \n",
       "Per Event         4950.00    9000.0000   32400.00  "
      ]
     },
     "execution_count": 15,
     "metadata": {},
     "output_type": "execute_result"
    }
   ],
   "source": [
    "#Here, within the grouping of data based on employment type, I am now looking at statistics like mean, \n",
    "#standard deviation, min, max and quartiles for base pay data. Below is this statistical information \n",
    "#for the base pay of every employment type witin the LAPD.\n",
    "\n",
    "dfj.describe()[('Base Pay')]"
   ]
  },
  {
   "cell_type": "code",
   "execution_count": null,
   "metadata": {},
   "outputs": [],
   "source": [
    "#Here, I am using the boxplot() function to make a boxplot depicting Base Pay based on employment type. Here, I do not \n",
    "#use the variable dfy because within the parenthesis, I can choose \"employment type\" as my x-axis and \"Base Pay\" as\n",
    "#my y-axis by setting \"by\" and \"column\" equal to the x and y axis respectively.\n",
    "\n",
    "df.boxplot(by = \"Employment Type\", column =['Base Pay'])"
   ]
  },
  {
   "cell_type": "markdown",
   "metadata": {},
   "source": [
    "## Data Analysis\n",
    "\n",
    "### Yearly Data Analysis\n",
    "\n",
    "* Based on the statistical data collected from performing describe on the Year grouped data, we can see the mean data for each year. For 2013, the mean base pay is \\\\$82,292.57 dollars. For 2014, the mean base pay is \\\\$84,428.39. For 2015, the mean base pay is \\\\$85,269.80. For 2016, the mean base pay is \\\\$86,758.16. For 2018, the mean base pay is \\\\$85,149.05. \n",
    "\n",
    "\n",
    "* Based on the statistical data collected from performing describe on the Year grouped data, we can see the maximum wage data for each year. For 2013, the max base pay is \\\\$325,005.36. For 2014, the max base pay is \\\\$344,406.40. For 2015, the max base pay is \\\\$344,406.40. For 2016, the max base pay is \\\\$346,787.20. For 2018, the max base pay is \\\\$294,452.48. \n",
    "\n",
    "\n",
    "* Based on the statistical data collected from performing describe on the Year grouped data, we can see the minimum wage data for each year. For 2013, the min base pay is \\\\$ -878.7. For 2014, the min base pay is \\\\$0.00. For 2015, the min base pay is \\\\$0.00. For 2016, the min base pay is \\\\$0.00. For 2018, the min base pay is \\\\$ -4979.2. \n",
    "\n",
    "\n",
    "* Based on the statistical data collected from performing describe on the Year grouped data, we can see the quartile wage data for each year. \n",
    "    \n",
    "    - For 2013, the quartile base pay data (25%, 50%, 75%) is \\\\$69,030.40, \\\\$86,608.91, and \\\\$96,872.23      respectively.\n",
    "    - For 2014, the quartile base pay data (25%, 50%, 75%) is \\\\$69,645.97, \\\\$89,610.32, and \\\\$99,497.64      respectively. \n",
    "    - For 2015, the quartile base pay data (25%, 50%, 75%) is \\\\$74,666.00, \\\\$90,500.79, and \\\\$100,380.80      respectively. \n",
    "    - For 2016, the quartile base pay data (25%, 50%, 75%) is \\\\$75,308.12, \\\\$92,388.69, and \\\\$102,233.60      respectively. \n",
    "    - For 2018, the quartile base pay data (25%, 50%, 75%) is \\\\$67,265.55, \\\\$97,600.66, and \\\\$109,368.18      respectively. "
   ]
  },
  {
   "cell_type": "markdown",
   "metadata": {},
   "source": [
    "### Employment Type Data Analysis\n",
    "\n",
    "* Based on the statistical data collected from performing describe on the Employment Type grouped data, we can see the mean data for each category. For Part Time, the mean base pay is \\\\$17,467.82. For Full Time, the mean base pay is \\\\$85,503.95. For Per Event, the mean base pay is \\\\$6,396.59. \n",
    "\n",
    "\n",
    "* Based on the statistical data collected from performing describe on the Employment Type grouped data, we can see the maximum wage data for each category. For Part Time, the max base pay is \\\\$44,490.99. For Full Time, the max base pay is \\\\$346,787.20. For Per Event, the max base pay is \\\\$32,400.00. \n",
    "\n",
    "\n",
    "* Based on the statistical data collected from performing describe on the Employment Type grouped data, we can see the minimum wage data for each category. For Part Time, the min base pay is \\\\$0.00. For Full Time, the min base pay is \\\\$-4979.20. For Per Event, the min base pay is \\\\$450.00.\n",
    "\n",
    "\n",
    "* Based on the statistical data collected from performing describe on the Employment Type grouped data, we can see the quartile wage data for each category. \n",
    "    \n",
    "    - For Full Time, the quartile base pay data (25%, 50%, 75%) is \\\\$71,701.33, \\\\$90,943.25, and \\\\$102,768.10     respectively.\n",
    "    - For Part Time, the quartile base pay data (25%, 50%, 75%) is \\\\$10,086.42, \\\\$17,529.53, and \\\\$24,494.08\t      respectively. \n",
    "    - For Per Event, the quartile base pay data (25%, 50%, 75%) is \\\\$1,800.00, \\\\$4,950.00, and \\\\$9,000.00\n",
    "respectively. "
   ]
  },
  {
   "cell_type": "markdown",
   "metadata": {},
   "source": [
    "## Data Conclusion\n",
    "\n",
    "### Yearly Data Conclusion\n",
    "\n",
    "- As can be seen by the data above, we can conclude that the year with the highest mean pay was 2016, with an annual mean salary of \\\\$86,758.16. The year with the lowest mean pay was 2013, with an annual mean salary of \\\\$82,292.57. An important trend to note about the mean data is that, starting in 2013, the mean data begins to rise slowly before decreasing in 2018.\n",
    "\n",
    "\n",
    "- From the data, we can conclude that that the year with the greatest maximum annual salary occurs in 2016, with an annual salary of \\\\$346,787.20. The lowest maximum annual salary occurs in 2018, with an annual salary of \\\\$294,452.48. An interesting thing to note is that 2014 and 2015 both have the same max salary of \\\\$344,406.40. \n",
    "\n",
    "\n",
    "- From the data, we can conclude that the year with the lowest minimum salary occurs in Full Time, with an annual salary of \\\\$-4979.20. The greatest minimum salary occurs in 2014, 2015 and 2016 with an annual salary of \\\\$0.00. \n",
    "\n",
    "\n",
    "- From the data, we can conclude that the year with the greatest 25th percentile for salary was 2018, with \\\\$69,645.97/year. The year with the lowest 25th percentile was 2013 with \\\\$69,030.40 dollars/year. \n",
    "\n",
    "\n",
    "- We can also conclude that that the year with the greatest 50th percentile for salary was 2018, with \\\\$97,600.66/year. The year with the lowest 50th percentile was 2013 with \\\\$86,608.91/year. \n",
    "\n",
    "\n",
    "- We can also conclude that that the year with the greatest 75th percentile for salary was 2018, with \\\\$109,368.18/year. The year with the lowest 75th percentile was 2013 with \\\\$96,872.23/year. \n",
    "\n",
    "Some things that are interesting to note about these conclusions is the fact that despite the year with the highest mean pay being 2016, the year 2018 consistently has the highest 25th, 50th and 75th percentile values, meaning that overall salaries are highest. This could signify that the year 2018 is the year with the least amount of outliers to impact the mean in the same way. \n",
    "\n",
    "This can be seen through the box plots visualized above for each year. Based on the graph, outliers for 2018 are located far closer to the median than for any other year, proving that, despite the overall mean being lower, the mean is actually being less impacted by higher values and is less skewed and represents the true mean more.  \n",
    "\n",
    "Another thing to note is that, due to the max salaries being lower in 2018 than that of other years with higher overall salaries, this makes me think that the dock in salary for higher paid officers was made TO increase salaries for other, lesser paid cops. This might be an area for further exploration.\n",
    "\n",
    "\n",
    "\n",
    "### Employment Type Conclusion\n",
    "\n",
    "- As can be seen by the data above, we can conclude that the employment type with the highest mean pay was Full Time, with an annual mean salary of \\\\$85,503.95 dollars. The employment type with the lowest mean pay was Per Event, with an annual mean salary of \\\\$6396.59.\n",
    "\n",
    "\n",
    "- From the data, we can conclude that that the employment type with the greatest maximum annual salary is Full Time, with an annual salary of \\\\$346,787.20 dollars. The lowest maximum annual salary is Per Event, with an annual salary of \\\\$32,400.00. \n",
    "\n",
    "\n",
    "- From the data, we can conclude that the employment type with the lowest minimum salary occurs is , with an annual salary of \\\\$-4979.20 dollars. The greatest minimum salary occurs in Part Time with an annual salary of \\\\$0.00 dollars. \n",
    "\n",
    "\n",
    "- From the data, we can conclude that the employment type with the greatest 25th percentile for salary was Full Time, with \\\\$71,701.33. The employment type with the lowest 25th percentile was Per Event with \\\\$1,800.00. \n",
    "\n",
    "\n",
    "- We can also conclude that that the employment type with the greatest 50th percentile for salary was Full Time, with \\\\$90,943.25 dollars/year. The employment type with the lowest 50th percentile was Per Event with \\\\$4,950.00. \n",
    "\n",
    "\n",
    "- We can also conclude that that the employment type with the greatest 75th percentile for salary was Full Time, with \\\\$102,768.10. The year with the lowest 75th percentile was Per Event with \\\\$9,000.00. \n",
    "\n",
    "From this, we can conclude uncontestedly, the employment type with the highest base salary is Full Time, with the lowest base salary occuring in Per Event employment type. Full Time has the highest maximum, mean and quartile values. However, interestingly, Full Time is also the employment type with the lowest minimum salary, with the officer having a negative salary balance.\n",
    "\n",
    "This conclusion is also supported by the boxplot visualization in which the minimum to maximum visualization (whisker to whisker of the boxplot) is located higher than both Part Time and Per Event. From looking at the boxplot visualization, we can see that the employment type with the lowest deviation from the median is Part Time, with the next being Per Event. Full Time has the highest standard deviation. Looking at the plot, we can also conclude that, due to box size, Full Time has the biggest interquartile range (with the most outliers), with Per Event having the smallest range and, the fewest outliers.\n"
   ]
  },
  {
   "cell_type": "markdown",
   "metadata": {},
   "source": [
    "## Questions:\n",
    "\n",
    "1) As stated in my conclusion section, I believe that the lowered maximum salaries in 2018 could have been due to an neccesity for an increase in salary for other, lower paid cops. I would like to explore this hypothesis more in the future and find out whether this is true or not.\n",
    "\n",
    "2) I would also like to know why the minimum annual base salary of all time is \\\\$-4979.20 per year. I would like to know why an employee's salary is negative and why this came to be. I would also like to know what the significance of negative salary means. Does it mean that the officer is in debt to the precint or to the city? How did it happen?\n",
    "\n",
    "3) I am also interested in knowing why there is no data for all of 2017. I checked in the full spreadsheet for all city employees wages and still did not encounter data for 2017 for the LAPD. I would like to know whether this is a recording error or if there was a serious reason for why there is no 2017 data.\n",
    "\n",
    "4) I would like to further analyze this data however, next in the context of gender. Currently, the csv file does not include the gender of each officer so, I would perhaps like to find another dataset in the future which includes gender as well as race potentially. \n",
    "\n",
    "5) I would also like to know what type of regression model would best fit the change in wages for certain careers through the years. I would probably require more data points for this, so I would like to see if this data is available through more years. "
   ]
  },
  {
   "cell_type": "markdown",
   "metadata": {},
   "source": [
    "## Acknowlegements\n",
    "\n",
    "   I would like to acknowledge Ms. Sconyers for giving me input on my lab and telling me what changes I should make to it. I would also like to thank her for teaching me how to use Pandas to analyze data.\n",
    "   \n",
    "   Secondly, I would like to acknowlege https://www.geeksforgeeks.org/box-plot-visualization-with-pandas-and-seaborn/ and https://pandas.pydata.org/pandas-docs/stable/user_guide/visualization.html for helping me create my boxplots. I would not have been able to create data visualizations without these links. \n",
    "   \n",
    "   I would also like to thank myself and my brain for figuring out how to isolate a column within a groupby() column in order to gather specific data. Finding out where to put the parenthesis was super helpful. I would also like to thank the past labs that I wrote for showing me what to write in my report.\n",
    "   \n",
    "   I would also like to thank Mark because he showed me how to make dollar signs without messing up my entire paragraph.\n",
    "\n",
    "   I would also like to thank Theo for putting me in his acknowlegements every time so I would like to thank Theo for that with a reciprocated acknowlegements section. "
   ]
  },
  {
   "cell_type": "code",
   "execution_count": null,
   "metadata": {},
   "outputs": [],
   "source": []
  }
 ],
 "metadata": {
  "kernelspec": {
   "display_name": "Python 3",
   "language": "python",
   "name": "python3"
  },
  "language_info": {
   "codemirror_mode": {
    "name": "ipython",
    "version": 3
   },
   "file_extension": ".py",
   "mimetype": "text/x-python",
   "name": "python",
   "nbconvert_exporter": "python",
   "pygments_lexer": "ipython3",
   "version": "3.7.1"
  }
 },
 "nbformat": 4,
 "nbformat_minor": 2
}
